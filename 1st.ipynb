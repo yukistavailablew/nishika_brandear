{
 "cells": [
  {
   "cell_type": "code",
   "execution_count": 21,
   "metadata": {},
   "outputs": [],
   "source": [
    "import pandas as pd"
   ]
  },
  {
   "cell_type": "code",
   "execution_count": 22,
   "metadata": {},
   "outputs": [],
   "source": [
    "from collections import Counter, defaultdict"
   ]
  },
  {
   "cell_type": "code",
   "execution_count": 23,
   "metadata": {},
   "outputs": [],
   "source": [
    "files = [\"auction.csv\",\n",
    "        \"kaiin.csv\",\n",
    "        \"nyuuka_oshirase.csv\",\n",
    "        \"shudounyuusatsu.csv\",\n",
    "        \"watchlist.csv\",#お気に入り追加データ\n",
    "        ]\n",
    "#入札と落札があるが、落札は入札に内包されるはずなので、入札だけ考えれば良いかと"
   ]
  },
  {
   "cell_type": "code",
   "execution_count": 24,
   "metadata": {},
   "outputs": [],
   "source": [
    "df_kaiin = pd.read_csv(\"/Users/yuki/Desktop/nishika_competition/brandear_competition/kaiin.csv\")"
   ]
  },
  {
   "cell_type": "code",
   "execution_count": 25,
   "metadata": {},
   "outputs": [],
   "source": [
    "df_auction = pd.read_csv(\"/Users/yuki/Desktop/nishika_competition/brandear_competition/auction.csv\")"
   ]
  },
  {
   "cell_type": "code",
   "execution_count": 26,
   "metadata": {},
   "outputs": [],
   "source": [
    "df_submission = pd.read_csv(\"/Users/yuki/Desktop/nishika_competition/brandear_competition/sample_submission.csv\")"
   ]
  },
  {
   "cell_type": "code",
   "execution_count": 27,
   "metadata": {},
   "outputs": [],
   "source": [
    "df_nyuusatsu = pd.read_csv(\"/Users/yuki/Desktop/nishika_competition/brandear_competition/shudounyuusatsu.csv\")"
   ]
  },
  {
   "cell_type": "code",
   "execution_count": 28,
   "metadata": {},
   "outputs": [],
   "source": [
    "df_watchlist = pd.read_csv(\"/Users/yuki/Desktop/nishika_competition/brandear_competition/watchlist.csv\")"
   ]
  },
  {
   "cell_type": "code",
   "execution_count": 45,
   "metadata": {},
   "outputs": [],
   "source": [
    "df_rakusatsu = pd.read_csv(\"/Users/yuki/Desktop/nishika_competition/brandear_competition/rakusatsu.csv\")"
   ]
  },
  {
   "cell_type": "code",
   "execution_count": 9,
   "metadata": {},
   "outputs": [],
   "source": [
    "#test_kaiin_id =  [df_submission[\"KaiinID\"].iloc[int(i*20)] for i in range(int(len(df_submission[\"KaiinID\"])/20))]"
   ]
  },
  {
   "cell_type": "code",
   "execution_count": 29,
   "metadata": {},
   "outputs": [],
   "source": [
    "log = pd.read_csv(\"/Users/yuki/Desktop/nishika_competition/brandear_competition/search_log.tsv\",delimiter='\\t')"
   ]
  },
  {
   "cell_type": "code",
   "execution_count": null,
   "metadata": {},
   "outputs": [],
   "source": [
    "#9月17日から23日までのデータを訓練データとする"
   ]
  },
  {
   "cell_type": "code",
   "execution_count": 36,
   "metadata": {},
   "outputs": [],
   "source": [
    "df_nyuusatsu_train = df_nyuusatsu.iloc[-12135:-1] #正解が含まれているから使わないよ。\n",
    "df_nyuusatsu_train = df_nyuusatsu_train.reset_index(drop=True)"
   ]
  },
  {
   "cell_type": "code",
   "execution_count": 38,
   "metadata": {},
   "outputs": [],
   "source": [
    "kaiin_dict = defaultdict(int)\n",
    "for d in df_nyuusatsu_train[\"KaiinID\"]:\n",
    "    kaiin_dict[int(d)] += 1"
   ]
  },
  {
   "cell_type": "code",
   "execution_count": 40,
   "metadata": {},
   "outputs": [],
   "source": [
    "train_kaiin_id = []\n",
    "for k in kaiin_dict:\n",
    "    if kaiin_dict[k] <= 60:\n",
    "        train_kaiin_id.append(k)"
   ]
  },
  {
   "cell_type": "code",
   "execution_count": 41,
   "metadata": {},
   "outputs": [
    {
     "data": {
      "text/plain": [
       "2295"
      ]
     },
     "execution_count": 41,
     "metadata": {},
     "output_type": "execute_result"
    }
   ],
   "source": [
    "len(train_kaiin_id)"
   ]
  },
  {
   "cell_type": "code",
   "execution_count": 42,
   "metadata": {},
   "outputs": [
    {
     "data": {
      "text/plain": [
       "KaiinID                     146248\n",
       "AuctionID                   887828\n",
       "TourokuDate    2019-09-17 00:00:03\n",
       "SakujoFlag                       0\n",
       "Name: 775444, dtype: object"
      ]
     },
     "execution_count": 42,
     "metadata": {},
     "output_type": "execute_result"
    }
   ],
   "source": [
    "df_watchlist.iloc[775444]"
   ]
  },
  {
   "cell_type": "code",
   "execution_count": 43,
   "metadata": {},
   "outputs": [
    {
     "data": {
      "text/plain": [
       "KaiinID                      72159\n",
       "AuctionID                   750614\n",
       "TourokuDate    2019-09-23 23:59:59\n",
       "SakujoFlag                       1\n",
       "Name: 860508, dtype: object"
      ]
     },
     "execution_count": 43,
     "metadata": {},
     "output_type": "execute_result"
    }
   ],
   "source": [
    "df_watchlist.iloc[860508]"
   ]
  },
  {
   "cell_type": "code",
   "execution_count": 44,
   "metadata": {},
   "outputs": [],
   "source": [
    "df_watchlist_x = pd.concat([df_watchlist.iloc[0:775444], df_watchlist.iloc[860509:-1]])\n",
    "df_watchlist_x = df_watchlist_x.reset_index(drop=True)"
   ]
  },
  {
   "cell_type": "code",
   "execution_count": 40,
   "metadata": {},
   "outputs": [
    {
     "data": {
      "text/html": [
       "<div>\n",
       "<style scoped>\n",
       "    .dataframe tbody tr th:only-of-type {\n",
       "        vertical-align: middle;\n",
       "    }\n",
       "\n",
       "    .dataframe tbody tr th {\n",
       "        vertical-align: top;\n",
       "    }\n",
       "\n",
       "    .dataframe thead th {\n",
       "        text-align: right;\n",
       "    }\n",
       "</style>\n",
       "<table border=\"1\" class=\"dataframe\">\n",
       "  <thead>\n",
       "    <tr style=\"text-align: right;\">\n",
       "      <th></th>\n",
       "      <th>KaiinID</th>\n",
       "      <th>AuctionID</th>\n",
       "      <th>TourokuDate</th>\n",
       "      <th>SakujoFlag</th>\n",
       "    </tr>\n",
       "  </thead>\n",
       "  <tbody>\n",
       "    <tr>\n",
       "      <th>775444</th>\n",
       "      <td>146248</td>\n",
       "      <td>887828</td>\n",
       "      <td>2019-09-17 00:00:03</td>\n",
       "      <td>0</td>\n",
       "    </tr>\n",
       "  </tbody>\n",
       "</table>\n",
       "</div>"
      ],
      "text/plain": [
       "        KaiinID  AuctionID          TourokuDate  SakujoFlag\n",
       "775444   146248     887828  2019-09-17 00:00:03           0"
      ]
     },
     "execution_count": 40,
     "metadata": {},
     "output_type": "execute_result"
    }
   ],
   "source": [
    "df_watchlist_y = df_watchlist.iloc[775444:860509]\n",
    "df_watchlist_y.head(1)"
   ]
  },
  {
   "cell_type": "code",
   "execution_count": 43,
   "metadata": {},
   "outputs": [],
   "source": [
    "df_watchlist_y = df_watchlist.iloc[775444:860509]\n",
    "df_watchlist_y = df_watchlist_y.reset_index(drop=True)\n",
    "l_y = []\n",
    "for i, d in enumerate(df_watchlist_y[\"KaiinID\"]):\n",
    "    if d in train_kaiin_id:\n",
    "        l_y.append([d, df_watchlist_y[\"AuctionID\"][i],\n",
    "                   df_watchlist_y[\"TourokuDate\"][i], 1])\n",
    "df_watchlist_y = pd.DataFrame(l_y, columns=[\"KaiinID\", \"AuctionID\", \"Date\", \"N\"])"
   ]
  },
  {
   "cell_type": "code",
   "execution_count": 57,
   "metadata": {},
   "outputs": [
    {
     "data": {
      "text/html": [
       "<div>\n",
       "<style scoped>\n",
       "    .dataframe tbody tr th:only-of-type {\n",
       "        vertical-align: middle;\n",
       "    }\n",
       "\n",
       "    .dataframe tbody tr th {\n",
       "        vertical-align: top;\n",
       "    }\n",
       "\n",
       "    .dataframe thead th {\n",
       "        text-align: right;\n",
       "    }\n",
       "</style>\n",
       "<table border=\"1\" class=\"dataframe\">\n",
       "  <thead>\n",
       "    <tr style=\"text-align: right;\">\n",
       "      <th></th>\n",
       "      <th>KaiinID</th>\n",
       "      <th>AuctionID</th>\n",
       "      <th>Date</th>\n",
       "      <th>N</th>\n",
       "    </tr>\n",
       "  </thead>\n",
       "  <tbody>\n",
       "    <tr>\n",
       "      <th>0</th>\n",
       "      <td>146248</td>\n",
       "      <td>887828</td>\n",
       "      <td>2019-09-17 00:00:03</td>\n",
       "      <td>1</td>\n",
       "    </tr>\n",
       "  </tbody>\n",
       "</table>\n",
       "</div>"
      ],
      "text/plain": [
       "   KaiinID  AuctionID                 Date  N\n",
       "0   146248     887828  2019-09-17 00:00:03  1"
      ]
     },
     "execution_count": 57,
     "metadata": {},
     "output_type": "execute_result"
    }
   ],
   "source": [
    "df_watchlist_y.head(1)"
   ]
  },
  {
   "cell_type": "code",
   "execution_count": 55,
   "metadata": {},
   "outputs": [],
   "source": [
    "ll_y = []\n",
    "for i, d in enumerate(df_nyuusatsu_train[\"KaiinID\"]):\n",
    "    if d in train_kaiin_id:\n",
    "        ll_y.append([d, df_nyuusatsu_train[\"AuctionID\"][i],\n",
    "                     df_nyuusatsu_train[\"ShudouNyuusatsuDate\"][i],\n",
    "                     2])\n",
    "df_nyuusatsu_y = pd.DataFrame(ll_y, columns=[\"KaiinID\",\"AuctionID\",\"Date\",\"N\"])"
   ]
  },
  {
   "cell_type": "code",
   "execution_count": 56,
   "metadata": {},
   "outputs": [
    {
     "data": {
      "text/html": [
       "<div>\n",
       "<style scoped>\n",
       "    .dataframe tbody tr th:only-of-type {\n",
       "        vertical-align: middle;\n",
       "    }\n",
       "\n",
       "    .dataframe tbody tr th {\n",
       "        vertical-align: top;\n",
       "    }\n",
       "\n",
       "    .dataframe thead th {\n",
       "        text-align: right;\n",
       "    }\n",
       "</style>\n",
       "<table border=\"1\" class=\"dataframe\">\n",
       "  <thead>\n",
       "    <tr style=\"text-align: right;\">\n",
       "      <th></th>\n",
       "      <th>KaiinID</th>\n",
       "      <th>AuctionID</th>\n",
       "      <th>Date</th>\n",
       "      <th>N</th>\n",
       "    </tr>\n",
       "  </thead>\n",
       "  <tbody>\n",
       "    <tr>\n",
       "      <th>0</th>\n",
       "      <td>258477</td>\n",
       "      <td>636604</td>\n",
       "      <td>2018-09-01 19:46:13</td>\n",
       "      <td>2</td>\n",
       "    </tr>\n",
       "  </tbody>\n",
       "</table>\n",
       "</div>"
      ],
      "text/plain": [
       "   KaiinID  AuctionID                 Date  N\n",
       "0   258477     636604  2018-09-01 19:46:13  2"
      ]
     },
     "execution_count": 56,
     "metadata": {},
     "output_type": "execute_result"
    }
   ],
   "source": [
    "df_nyuusatsu_y.head(1)"
   ]
  },
  {
   "cell_type": "code",
   "execution_count": 61,
   "metadata": {},
   "outputs": [],
   "source": [
    "train_y = pd.concat([df_nyuusatsu_y, df_watchlist_y])\n",
    "train_y = train_y.reset_index(drop=True)"
   ]
  },
  {
   "cell_type": "code",
   "execution_count": 64,
   "metadata": {},
   "outputs": [
    {
     "data": {
      "text/plain": [
       "262316"
      ]
     },
     "execution_count": 64,
     "metadata": {},
     "output_type": "execute_result"
    }
   ],
   "source": [
    "len(train_y)"
   ]
  },
  {
   "cell_type": "code",
   "execution_count": 76,
   "metadata": {},
   "outputs": [
    {
     "data": {
      "text/plain": [
       "4109559"
      ]
     },
     "execution_count": 76,
     "metadata": {},
     "output_type": "execute_result"
    }
   ],
   "source": [
    "len(df_auction)"
   ]
  },
  {
   "cell_type": "code",
   "execution_count": null,
   "metadata": {},
   "outputs": [],
   "source": [
    "feature_y = []\n",
    "for j, t in enumerate(df_auction[\"AuctionID\"]):\n",
    "    for i, d in enumerate(train_y[\"AuctionID\"]):\n",
    "        if d == t:\n",
    "            feature_y.append([d, train_y[\"KaiinID\"][i],\n",
    "                            train_y[\"Date\"][i],\n",
    "                            train_y[\"N\"][i],\n",
    "                          df_auction[\"ShouhinShubetsuID\"][j],\n",
    "                           df_auction[\"ConditionID\"][j],\n",
    "                           df_auction[\"BrandID\"][j],\n",
    "                           df_auction[\"GenreID\"][j],\n",
    "                           df_auction[\"GenreGroupID\"][j],\n",
    "                           df_auction[\"LineID\"][j],\n",
    "                           df_auction[\"ColorID\"][j],\n",
    "                           df_auction[\"DanjobetsuID\"][j],\n",
    "                           df_auction[\"SankouKakaku\"][j]]\n",
    "                          )\n",
    "            continue\n",
    "    if j == 1000000:\n",
    "        print(1000000)"
   ]
  },
  {
   "cell_type": "code",
   "execution_count": 65,
   "metadata": {},
   "outputs": [],
   "source": [
    "df_nyuusatsu_train_2 = df_nyuusatsu.iloc[0:len(df_nyuusatsu)-12136]"
   ]
  },
  {
   "cell_type": "code",
   "execution_count": 66,
   "metadata": {},
   "outputs": [
    {
     "data": {
      "text/html": [
       "<div>\n",
       "<style scoped>\n",
       "    .dataframe tbody tr th:only-of-type {\n",
       "        vertical-align: middle;\n",
       "    }\n",
       "\n",
       "    .dataframe tbody tr th {\n",
       "        vertical-align: top;\n",
       "    }\n",
       "\n",
       "    .dataframe thead th {\n",
       "        text-align: right;\n",
       "    }\n",
       "</style>\n",
       "<table border=\"1\" class=\"dataframe\">\n",
       "  <thead>\n",
       "    <tr style=\"text-align: right;\">\n",
       "      <th></th>\n",
       "      <th>AuctionID</th>\n",
       "      <th>KaiinID</th>\n",
       "      <th>ShudouNyuusatsuDate</th>\n",
       "      <th>Kingaku</th>\n",
       "      <th>Suuryou</th>\n",
       "      <th>SokketsuFlag</th>\n",
       "      <th>SakujoFlag</th>\n",
       "    </tr>\n",
       "  </thead>\n",
       "  <tbody>\n",
       "    <tr>\n",
       "      <th>0</th>\n",
       "      <td>3744587</td>\n",
       "      <td>227198</td>\n",
       "      <td>2018-09-01 21:40:44</td>\n",
       "      <td>18000</td>\n",
       "      <td>1</td>\n",
       "      <td>0</td>\n",
       "      <td>1</td>\n",
       "    </tr>\n",
       "  </tbody>\n",
       "</table>\n",
       "</div>"
      ],
      "text/plain": [
       "   AuctionID  KaiinID  ShudouNyuusatsuDate  Kingaku  Suuryou  SokketsuFlag  \\\n",
       "0    3744587   227198  2018-09-01 21:40:44    18000        1             0   \n",
       "\n",
       "   SakujoFlag  \n",
       "0           1  "
      ]
     },
     "execution_count": 66,
     "metadata": {},
     "output_type": "execute_result"
    }
   ],
   "source": [
    "df_nyuusatsu_train_2.head(1)"
   ]
  },
  {
   "cell_type": "code",
   "execution_count": 67,
   "metadata": {},
   "outputs": [],
   "source": [
    "train = []\n",
    "for i, d in enumerate(df_nyuusatsu_train_2[\"KaiinID\"]):\n",
    "    if d in train_kaiin_id:\n",
    "        train.append([d, df_nyuusatsu_train_2[\"AuctionID\"][i], df_nyuusatsu_train_2[\"ShudouNyuusatsuDate\"][i], 2])\n",
    "for i, d in enumerate(df_watchlist_x[\"KaiinID\"]):\n",
    "    if d in train_kaiin_id:\n",
    "        train.append([d, df_watchlist_x[\"AuctionID\"][i], df_watchlist_x[\"TourokuDate\"][i], 1])\n",
    "train_x = pd.DataFrame(train, columns=[\"KaiinID\",\"AuctionID\", \"Date\", \"N\"])"
   ]
  },
  {
   "cell_type": "code",
   "execution_count": 69,
   "metadata": {},
   "outputs": [],
   "source": [
    "train_x.to_csv(\"train_x.csv\",index=False)"
   ]
  },
  {
   "cell_type": "code",
   "execution_count": 81,
   "metadata": {},
   "outputs": [
    {
     "data": {
      "text/plain": [
       "KaiinID                    89469\n",
       "AuctionID                1664323\n",
       "Date         2019-09-02 21:39:15\n",
       "Name: 300000, dtype: object"
      ]
     },
     "execution_count": 81,
     "metadata": {},
     "output_type": "execute_result"
    }
   ],
   "source": [
    "train_x.iloc[300000]"
   ]
  },
  {
   "cell_type": "code",
   "execution_count": null,
   "metadata": {},
   "outputs": [],
   "source": [
    "feature = []\n",
    "for j, t in enumerate(df_auction[\"AuctionID\"]):\n",
    "    for i, d in enumerate(train_x[\"AuctionID\"]):\n",
    "        if d == t:\n",
    "            feature.append([d, train_x[\"KaiinID\"][i],\n",
    "                            train_x[\"Date\"][i],\n",
    "                          df_auction[\"ShouhinShubetsuID\"][j],\n",
    "                           df_auction[\"ConditionID\"][j],\n",
    "                           df\n",
    "                            _auction[\"BrandID\"][j],\n",
    "                           df_auction[\"GenreID\"][j],\n",
    "                           df_auction[\"GenreGroupID\"][j],\n",
    "                           df_auction[\"LineID\"][j],\n",
    "                           df_auction[\"ColorID\"][j],\n",
    "                           df_auction[\"DanjobetsuID\"][j],\n",
    "                           df_auction[\"SankouKakaku\"][j]]\n",
    "                          )\n",
    "            continue"
   ]
  },
  {
   "cell_type": "code",
   "execution_count": 75,
   "metadata": {},
   "outputs": [
    {
     "data": {
      "text/plain": [
       "1176689"
      ]
     },
     "execution_count": 75,
     "metadata": {},
     "output_type": "execute_result"
    }
   ],
   "source": [
    "len(train_x)"
   ]
  },
  {
   "cell_type": "code",
   "execution_count": 76,
   "metadata": {},
   "outputs": [
    {
     "data": {
      "text/plain": [
       "4109559"
      ]
     },
     "execution_count": 76,
     "metadata": {},
     "output_type": "execute_result"
    }
   ],
   "source": [
    "len(df_auction)"
   ]
  },
  {
   "cell_type": "code",
   "execution_count": 38,
   "metadata": {},
   "outputs": [
    {
     "data": {
      "text/html": [
       "<div>\n",
       "<style scoped>\n",
       "    .dataframe tbody tr th:only-of-type {\n",
       "        vertical-align: middle;\n",
       "    }\n",
       "\n",
       "    .dataframe tbody tr th {\n",
       "        vertical-align: top;\n",
       "    }\n",
       "\n",
       "    .dataframe thead th {\n",
       "        text-align: right;\n",
       "    }\n",
       "</style>\n",
       "<table border=\"1\" class=\"dataframe\">\n",
       "  <thead>\n",
       "    <tr style=\"text-align: right;\">\n",
       "      <th></th>\n",
       "      <th>AuctionID</th>\n",
       "      <th>ShouhinShubetsuID</th>\n",
       "      <th>ShouhinID</th>\n",
       "      <th>SaishuppinKaisuu</th>\n",
       "      <th>ConditionID</th>\n",
       "      <th>BrandID</th>\n",
       "      <th>GenreID</th>\n",
       "      <th>GenreGroupID</th>\n",
       "      <th>LineID</th>\n",
       "      <th>ColorID</th>\n",
       "      <th>DanjobetsuID</th>\n",
       "      <th>SankouKakaku</th>\n",
       "      <th>CreateDate</th>\n",
       "    </tr>\n",
       "  </thead>\n",
       "  <tbody>\n",
       "    <tr>\n",
       "      <th>0</th>\n",
       "      <td>4066465</td>\n",
       "      <td>1</td>\n",
       "      <td>620477</td>\n",
       "      <td>334</td>\n",
       "      <td>6</td>\n",
       "      <td>494</td>\n",
       "      <td>321</td>\n",
       "      <td>312</td>\n",
       "      <td>0</td>\n",
       "      <td>15</td>\n",
       "      <td>0</td>\n",
       "      <td>4000</td>\n",
       "      <td>2019-07-27 09:31:34</td>\n",
       "    </tr>\n",
       "  </tbody>\n",
       "</table>\n",
       "</div>"
      ],
      "text/plain": [
       "   AuctionID  ShouhinShubetsuID  ShouhinID  SaishuppinKaisuu  ConditionID  \\\n",
       "0    4066465                  1     620477               334            6   \n",
       "\n",
       "   BrandID  GenreID  GenreGroupID  LineID  ColorID  DanjobetsuID  \\\n",
       "0      494      321           312       0       15             0   \n",
       "\n",
       "   SankouKakaku           CreateDate  \n",
       "0          4000  2019-07-27 09:31:34  "
      ]
     },
     "execution_count": 38,
     "metadata": {},
     "output_type": "execute_result"
    }
   ],
   "source": [
    "train_x_2 = df.DataFrame(feature, columns=[\"AuctionID\",\"KaiinID\",\"ShouhinShubetsuID\",\"ConditionID\",\n",
    "                                           \"BrandID\",\"GenreID\",\"GenreGroupID\",\"LineID\",\"ColorID\",\"DanjobetsuID\",\n",
    "                                          \"SankouKakaku\"])"
   ]
  },
  {
   "cell_type": "code",
   "execution_count": 34,
   "metadata": {},
   "outputs": [
    {
     "data": {
      "text/html": [
       "<div>\n",
       "<style scoped>\n",
       "    .dataframe tbody tr th:only-of-type {\n",
       "        vertical-align: middle;\n",
       "    }\n",
       "\n",
       "    .dataframe tbody tr th {\n",
       "        vertical-align: top;\n",
       "    }\n",
       "\n",
       "    .dataframe thead th {\n",
       "        text-align: right;\n",
       "    }\n",
       "</style>\n",
       "<table border=\"1\" class=\"dataframe\">\n",
       "  <thead>\n",
       "    <tr style=\"text-align: right;\">\n",
       "      <th></th>\n",
       "      <th>KaiinID</th>\n",
       "      <th>AuctionID</th>\n",
       "      <th>TourokuDate</th>\n",
       "      <th>SakujoFlag</th>\n",
       "    </tr>\n",
       "  </thead>\n",
       "  <tbody>\n",
       "    <tr>\n",
       "      <th>0</th>\n",
       "      <td>231713</td>\n",
       "      <td>1036190</td>\n",
       "      <td>2018-09-01 00:00:16</td>\n",
       "      <td>1</td>\n",
       "    </tr>\n",
       "    <tr>\n",
       "      <th>1</th>\n",
       "      <td>225585</td>\n",
       "      <td>4043640</td>\n",
       "      <td>2018-09-01 00:00:34</td>\n",
       "      <td>1</td>\n",
       "    </tr>\n",
       "    <tr>\n",
       "      <th>2</th>\n",
       "      <td>75217</td>\n",
       "      <td>3100882</td>\n",
       "      <td>2018-09-01 00:00:44</td>\n",
       "      <td>1</td>\n",
       "    </tr>\n",
       "  </tbody>\n",
       "</table>\n",
       "</div>"
      ],
      "text/plain": [
       "   KaiinID  AuctionID          TourokuDate  SakujoFlag\n",
       "0   231713    1036190  2018-09-01 00:00:16           1\n",
       "1   225585    4043640  2018-09-01 00:00:34           1\n",
       "2    75217    3100882  2018-09-01 00:00:44           1"
      ]
     },
     "execution_count": 34,
     "metadata": {},
     "output_type": "execute_result"
    }
   ],
   "source": [
    "df_watchlist.head(3)"
   ]
  },
  {
   "cell_type": "code",
   "execution_count": 57,
   "metadata": {},
   "outputs": [
    {
     "data": {
      "text/plain": [
       "AuctionID                          3368992\n",
       "KaiinID                             129830\n",
       "ShudouNyuusatsuDate    2019-09-16 14:29:05\n",
       "Kingaku                              11400\n",
       "Suuryou                                  1\n",
       "SokketsuFlag                             0\n",
       "SakujoFlag                               1\n",
       "Name: 600000, dtype: object"
      ]
     },
     "execution_count": 57,
     "metadata": {},
     "output_type": "execute_result"
    }
   ],
   "source": [
    "df_nyuusatsu.iloc[600000]"
   ]
  },
  {
   "cell_type": "code",
   "execution_count": 48,
   "metadata": {},
   "outputs": [
    {
     "data": {
      "text/html": [
       "<div>\n",
       "<style scoped>\n",
       "    .dataframe tbody tr th:only-of-type {\n",
       "        vertical-align: middle;\n",
       "    }\n",
       "\n",
       "    .dataframe tbody tr th {\n",
       "        vertical-align: top;\n",
       "    }\n",
       "\n",
       "    .dataframe thead th {\n",
       "        text-align: right;\n",
       "    }\n",
       "</style>\n",
       "<table border=\"1\" class=\"dataframe\">\n",
       "  <thead>\n",
       "    <tr style=\"text-align: right;\">\n",
       "      <th></th>\n",
       "      <th>AuctionID</th>\n",
       "      <th>KaiinID</th>\n",
       "      <th>RakusatsuDate</th>\n",
       "      <th>Kingaku</th>\n",
       "      <th>Suuryou</th>\n",
       "      <th>SakujoFlag</th>\n",
       "    </tr>\n",
       "  </thead>\n",
       "  <tbody>\n",
       "    <tr>\n",
       "      <th>0</th>\n",
       "      <td>3744587</td>\n",
       "      <td>227198</td>\n",
       "      <td>2018-09-01 21:50:00</td>\n",
       "      <td>18000</td>\n",
       "      <td>1</td>\n",
       "      <td>0</td>\n",
       "    </tr>\n",
       "    <tr>\n",
       "      <th>1</th>\n",
       "      <td>3150550</td>\n",
       "      <td>253112</td>\n",
       "      <td>2018-09-01 21:07:00</td>\n",
       "      <td>16500</td>\n",
       "      <td>1</td>\n",
       "      <td>0</td>\n",
       "    </tr>\n",
       "    <tr>\n",
       "      <th>2</th>\n",
       "      <td>636604</td>\n",
       "      <td>258477</td>\n",
       "      <td>2018-09-01 22:43:00</td>\n",
       "      <td>24500</td>\n",
       "      <td>1</td>\n",
       "      <td>0</td>\n",
       "    </tr>\n",
       "    <tr>\n",
       "      <th>3</th>\n",
       "      <td>2413186</td>\n",
       "      <td>227198</td>\n",
       "      <td>2018-09-01 21:31:00</td>\n",
       "      <td>26700</td>\n",
       "      <td>1</td>\n",
       "      <td>0</td>\n",
       "    </tr>\n",
       "    <tr>\n",
       "      <th>4</th>\n",
       "      <td>2786032</td>\n",
       "      <td>69415</td>\n",
       "      <td>2018-09-01 22:19:00</td>\n",
       "      <td>128905</td>\n",
       "      <td>1</td>\n",
       "      <td>0</td>\n",
       "    </tr>\n",
       "    <tr>\n",
       "      <th>5</th>\n",
       "      <td>797809</td>\n",
       "      <td>126626</td>\n",
       "      <td>2018-09-01 21:40:00</td>\n",
       "      <td>6500</td>\n",
       "      <td>1</td>\n",
       "      <td>0</td>\n",
       "    </tr>\n",
       "    <tr>\n",
       "      <th>6</th>\n",
       "      <td>1928152</td>\n",
       "      <td>73289</td>\n",
       "      <td>2018-09-01 21:41:00</td>\n",
       "      <td>13000</td>\n",
       "      <td>1</td>\n",
       "      <td>0</td>\n",
       "    </tr>\n",
       "    <tr>\n",
       "      <th>7</th>\n",
       "      <td>2631406</td>\n",
       "      <td>59603</td>\n",
       "      <td>2018-09-01 21:31:00</td>\n",
       "      <td>22000</td>\n",
       "      <td>1</td>\n",
       "      <td>0</td>\n",
       "    </tr>\n",
       "    <tr>\n",
       "      <th>8</th>\n",
       "      <td>2113839</td>\n",
       "      <td>135001</td>\n",
       "      <td>2018-09-01 22:23:00</td>\n",
       "      <td>31100</td>\n",
       "      <td>1</td>\n",
       "      <td>0</td>\n",
       "    </tr>\n",
       "    <tr>\n",
       "      <th>9</th>\n",
       "      <td>3093454</td>\n",
       "      <td>70432</td>\n",
       "      <td>2018-09-01 21:16:00</td>\n",
       "      <td>14000</td>\n",
       "      <td>1</td>\n",
       "      <td>0</td>\n",
       "    </tr>\n",
       "  </tbody>\n",
       "</table>\n",
       "</div>"
      ],
      "text/plain": [
       "   AuctionID  KaiinID        RakusatsuDate  Kingaku  Suuryou  SakujoFlag\n",
       "0    3744587   227198  2018-09-01 21:50:00    18000        1           0\n",
       "1    3150550   253112  2018-09-01 21:07:00    16500        1           0\n",
       "2     636604   258477  2018-09-01 22:43:00    24500        1           0\n",
       "3    2413186   227198  2018-09-01 21:31:00    26700        1           0\n",
       "4    2786032    69415  2018-09-01 22:19:00   128905        1           0\n",
       "5     797809   126626  2018-09-01 21:40:00     6500        1           0\n",
       "6    1928152    73289  2018-09-01 21:41:00    13000        1           0\n",
       "7    2631406    59603  2018-09-01 21:31:00    22000        1           0\n",
       "8    2113839   135001  2018-09-01 22:23:00    31100        1           0\n",
       "9    3093454    70432  2018-09-01 21:16:00    14000        1           0"
      ]
     },
     "execution_count": 48,
     "metadata": {},
     "output_type": "execute_result"
    }
   ],
   "source": [
    "df_rakusatsu.head(10)"
   ]
  },
  {
   "cell_type": "code",
   "execution_count": 88,
   "metadata": {},
   "outputs": [
    {
     "data": {
      "text/html": [
       "<div>\n",
       "<style scoped>\n",
       "    .dataframe tbody tr th:only-of-type {\n",
       "        vertical-align: middle;\n",
       "    }\n",
       "\n",
       "    .dataframe tbody tr th {\n",
       "        vertical-align: top;\n",
       "    }\n",
       "\n",
       "    .dataframe thead th {\n",
       "        text-align: right;\n",
       "    }\n",
       "</style>\n",
       "<table border=\"1\" class=\"dataframe\">\n",
       "  <thead>\n",
       "    <tr style=\"text-align: right;\">\n",
       "      <th></th>\n",
       "      <th>AuctionID</th>\n",
       "      <th>ShouhinShubetsuID</th>\n",
       "      <th>ShouhinID</th>\n",
       "      <th>SaishuppinKaisuu</th>\n",
       "      <th>ConditionID</th>\n",
       "      <th>BrandID</th>\n",
       "      <th>GenreID</th>\n",
       "      <th>GenreGroupID</th>\n",
       "      <th>LineID</th>\n",
       "      <th>ColorID</th>\n",
       "      <th>DanjobetsuID</th>\n",
       "      <th>SankouKakaku</th>\n",
       "      <th>CreateDate</th>\n",
       "    </tr>\n",
       "  </thead>\n",
       "  <tbody>\n",
       "    <tr>\n",
       "      <th>0</th>\n",
       "      <td>4066465</td>\n",
       "      <td>1</td>\n",
       "      <td>620477</td>\n",
       "      <td>334</td>\n",
       "      <td>6</td>\n",
       "      <td>494</td>\n",
       "      <td>321</td>\n",
       "      <td>312</td>\n",
       "      <td>0</td>\n",
       "      <td>15</td>\n",
       "      <td>0</td>\n",
       "      <td>4000</td>\n",
       "      <td>2019-07-27 09:31:34</td>\n",
       "    </tr>\n",
       "  </tbody>\n",
       "</table>\n",
       "</div>"
      ],
      "text/plain": [
       "   AuctionID  ShouhinShubetsuID  ShouhinID  SaishuppinKaisuu  ConditionID  \\\n",
       "0    4066465                  1     620477               334            6   \n",
       "\n",
       "   BrandID  GenreID  GenreGroupID  LineID  ColorID  DanjobetsuID  \\\n",
       "0      494      321           312       0       15             0   \n",
       "\n",
       "   SankouKakaku           CreateDate  \n",
       "0          4000  2019-07-27 09:31:34  "
      ]
     },
     "execution_count": 88,
     "metadata": {},
     "output_type": "execute_result"
    }
   ],
   "source": [
    "df_auction.head(1)"
   ]
  },
  {
   "cell_type": "code",
   "execution_count": null,
   "metadata": {},
   "outputs": [],
   "source": [
    "=====================================\n",
    "#2019/9/17~2019/9/23のあいだのauctionIDをしらべる。"
   ]
  },
  {
   "cell_type": "code",
   "execution_count": null,
   "metadata": {},
   "outputs": [],
   "source": [
    "df[df['age'] < 25]"
   ]
  },
  {
   "cell_type": "code",
   "execution_count": null,
   "metadata": {},
   "outputs": [],
   "source": [
    "df_auction[df_auction[\"SaishuppinKaisuu\"]]"
   ]
  },
  {
   "cell_type": "code",
   "execution_count": null,
   "metadata": {},
   "outputs": [],
   "source": []
  }
 ],
 "metadata": {
  "kernelspec": {
   "display_name": "Python 3",
   "language": "python",
   "name": "python3"
  },
  "language_info": {
   "codemirror_mode": {
    "name": "ipython",
    "version": 3
   },
   "file_extension": ".py",
   "mimetype": "text/x-python",
   "name": "python",
   "nbconvert_exporter": "python",
   "pygments_lexer": "ipython3",
   "version": "3.7.3"
  }
 },
 "nbformat": 4,
 "nbformat_minor": 2
}
